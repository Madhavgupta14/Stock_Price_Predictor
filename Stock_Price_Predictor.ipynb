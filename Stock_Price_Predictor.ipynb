{
 "cells": [
  {
   "cell_type": "markdown",
   "id": "c2deeefc",
   "metadata": {},
   "source": [
    " # Stocks Price Predictor\n"
   ]
  },
  {
   "cell_type": "code",
   "execution_count": 1,
   "id": "6dcaf88c",
   "metadata": {},
   "outputs": [],
   "source": [
    "import pandas as pd"
   ]
  },
  {
   "cell_type": "code",
   "execution_count": 2,
   "id": "f5958626",
   "metadata": {},
   "outputs": [],
   "source": [
    "stocks = pd.read_csv(\"data.csv\")"
   ]
  },
  {
   "cell_type": "code",
   "execution_count": 3,
   "id": "bbf9bcd4",
   "metadata": {},
   "outputs": [
    {
     "data": {
      "text/html": [
       "<div>\n",
       "<style scoped>\n",
       "    .dataframe tbody tr th:only-of-type {\n",
       "        vertical-align: middle;\n",
       "    }\n",
       "\n",
       "    .dataframe tbody tr th {\n",
       "        vertical-align: top;\n",
       "    }\n",
       "\n",
       "    .dataframe thead th {\n",
       "        text-align: right;\n",
       "    }\n",
       "</style>\n",
       "<table border=\"1\" class=\"dataframe\">\n",
       "  <thead>\n",
       "    <tr style=\"text-align: right;\">\n",
       "      <th></th>\n",
       "      <th>Date</th>\n",
       "      <th>Open</th>\n",
       "      <th>High</th>\n",
       "      <th>Low</th>\n",
       "      <th>Last</th>\n",
       "      <th>Close</th>\n",
       "      <th>Total Trade Quantity</th>\n",
       "      <th>Turnover (Lacs)</th>\n",
       "    </tr>\n",
       "  </thead>\n",
       "  <tbody>\n",
       "    <tr>\n",
       "      <th>0</th>\n",
       "      <td>08-10-2018</td>\n",
       "      <td>208.00</td>\n",
       "      <td>222.25</td>\n",
       "      <td>206.85</td>\n",
       "      <td>216.00</td>\n",
       "      <td>215.15</td>\n",
       "      <td>4642146</td>\n",
       "      <td>10062.83</td>\n",
       "    </tr>\n",
       "    <tr>\n",
       "      <th>1</th>\n",
       "      <td>05-10-2018</td>\n",
       "      <td>217.00</td>\n",
       "      <td>218.60</td>\n",
       "      <td>205.90</td>\n",
       "      <td>210.25</td>\n",
       "      <td>209.20</td>\n",
       "      <td>3519515</td>\n",
       "      <td>7407.06</td>\n",
       "    </tr>\n",
       "    <tr>\n",
       "      <th>2</th>\n",
       "      <td>04-10-2018</td>\n",
       "      <td>223.50</td>\n",
       "      <td>227.80</td>\n",
       "      <td>216.15</td>\n",
       "      <td>217.25</td>\n",
       "      <td>218.20</td>\n",
       "      <td>1728786</td>\n",
       "      <td>3815.79</td>\n",
       "    </tr>\n",
       "    <tr>\n",
       "      <th>3</th>\n",
       "      <td>03-10-2018</td>\n",
       "      <td>230.00</td>\n",
       "      <td>237.50</td>\n",
       "      <td>225.75</td>\n",
       "      <td>226.45</td>\n",
       "      <td>227.60</td>\n",
       "      <td>1708590</td>\n",
       "      <td>3960.27</td>\n",
       "    </tr>\n",
       "    <tr>\n",
       "      <th>4</th>\n",
       "      <td>01-10-2018</td>\n",
       "      <td>234.55</td>\n",
       "      <td>234.60</td>\n",
       "      <td>221.05</td>\n",
       "      <td>230.30</td>\n",
       "      <td>230.90</td>\n",
       "      <td>1534749</td>\n",
       "      <td>3486.05</td>\n",
       "    </tr>\n",
       "  </tbody>\n",
       "</table>\n",
       "</div>"
      ],
      "text/plain": [
       "         Date    Open    High     Low    Last   Close  Total Trade Quantity  \\\n",
       "0  08-10-2018  208.00  222.25  206.85  216.00  215.15               4642146   \n",
       "1  05-10-2018  217.00  218.60  205.90  210.25  209.20               3519515   \n",
       "2  04-10-2018  223.50  227.80  216.15  217.25  218.20               1728786   \n",
       "3  03-10-2018  230.00  237.50  225.75  226.45  227.60               1708590   \n",
       "4  01-10-2018  234.55  234.60  221.05  230.30  230.90               1534749   \n",
       "\n",
       "   Turnover (Lacs)  \n",
       "0         10062.83  \n",
       "1          7407.06  \n",
       "2          3815.79  \n",
       "3          3960.27  \n",
       "4          3486.05  "
      ]
     },
     "execution_count": 3,
     "metadata": {},
     "output_type": "execute_result"
    }
   ],
   "source": [
    "stocks.head()"
   ]
  },
  {
   "cell_type": "code",
   "execution_count": 4,
   "id": "576d49b2",
   "metadata": {},
   "outputs": [
    {
     "name": "stdout",
     "output_type": "stream",
     "text": [
      "<class 'pandas.core.frame.DataFrame'>\n",
      "RangeIndex: 1235 entries, 0 to 1234\n",
      "Data columns (total 8 columns):\n",
      " #   Column                Non-Null Count  Dtype  \n",
      "---  ------                --------------  -----  \n",
      " 0   Date                  1235 non-null   object \n",
      " 1   Open                  1231 non-null   float64\n",
      " 2   High                  1235 non-null   float64\n",
      " 3   Low                   1235 non-null   float64\n",
      " 4   Last                  1235 non-null   float64\n",
      " 5   Close                 1235 non-null   float64\n",
      " 6   Total Trade Quantity  1235 non-null   int64  \n",
      " 7   Turnover (Lacs)       1235 non-null   float64\n",
      "dtypes: float64(6), int64(1), object(1)\n",
      "memory usage: 77.3+ KB\n"
     ]
    }
   ],
   "source": [
    "stocks.info()"
   ]
  },
  {
   "cell_type": "code",
   "execution_count": 5,
   "id": "27b8782a",
   "metadata": {
    "scrolled": true
   },
   "outputs": [
    {
     "data": {
      "text/plain": [
       "135.0    9\n",
       "154.5    7\n",
       "125.0    6\n",
       "121.0    6\n",
       "143.0    6\n",
       "        ..\n",
       "155.5    1\n",
       "158.0    1\n",
       "176.6    1\n",
       "289.8    1\n",
       "166.7    1\n",
       "Name: High, Length: 863, dtype: int64"
      ]
     },
     "execution_count": 5,
     "metadata": {},
     "output_type": "execute_result"
    }
   ],
   "source": [
    "stocks['High'].value_counts()"
   ]
  },
  {
   "cell_type": "code",
   "execution_count": 6,
   "id": "d442d0ed",
   "metadata": {},
   "outputs": [
    {
     "data": {
      "text/plain": [
       "(1235, 8)"
      ]
     },
     "execution_count": 6,
     "metadata": {},
     "output_type": "execute_result"
    }
   ],
   "source": [
    "# median = stocks[\"stocks\"].median()\n",
    "stocks.shape"
   ]
  },
  {
   "cell_type": "code",
   "execution_count": 7,
   "id": "9f5dbd4c",
   "metadata": {},
   "outputs": [
    {
     "data": {
      "text/html": [
       "<div>\n",
       "<style scoped>\n",
       "    .dataframe tbody tr th:only-of-type {\n",
       "        vertical-align: middle;\n",
       "    }\n",
       "\n",
       "    .dataframe tbody tr th {\n",
       "        vertical-align: top;\n",
       "    }\n",
       "\n",
       "    .dataframe thead th {\n",
       "        text-align: right;\n",
       "    }\n",
       "</style>\n",
       "<table border=\"1\" class=\"dataframe\">\n",
       "  <thead>\n",
       "    <tr style=\"text-align: right;\">\n",
       "      <th></th>\n",
       "      <th>Open</th>\n",
       "      <th>High</th>\n",
       "      <th>Low</th>\n",
       "      <th>Last</th>\n",
       "      <th>Close</th>\n",
       "      <th>Total Trade Quantity</th>\n",
       "      <th>Turnover (Lacs)</th>\n",
       "    </tr>\n",
       "  </thead>\n",
       "  <tbody>\n",
       "    <tr>\n",
       "      <th>count</th>\n",
       "      <td>1231.000000</td>\n",
       "      <td>1235.000000</td>\n",
       "      <td>1235.000000</td>\n",
       "      <td>1235.000000</td>\n",
       "      <td>1235.000000</td>\n",
       "      <td>1.235000e+03</td>\n",
       "      <td>1235.000000</td>\n",
       "    </tr>\n",
       "    <tr>\n",
       "      <th>mean</th>\n",
       "      <td>168.701665</td>\n",
       "      <td>171.429069</td>\n",
       "      <td>166.402308</td>\n",
       "      <td>168.736356</td>\n",
       "      <td>168.731053</td>\n",
       "      <td>2.604151e+06</td>\n",
       "      <td>4843.166502</td>\n",
       "    </tr>\n",
       "    <tr>\n",
       "      <th>std</th>\n",
       "      <td>51.375871</td>\n",
       "      <td>52.436761</td>\n",
       "      <td>50.542919</td>\n",
       "      <td>51.587384</td>\n",
       "      <td>51.544928</td>\n",
       "      <td>2.277028e+06</td>\n",
       "      <td>5348.919832</td>\n",
       "    </tr>\n",
       "    <tr>\n",
       "      <th>min</th>\n",
       "      <td>103.000000</td>\n",
       "      <td>104.600000</td>\n",
       "      <td>100.000000</td>\n",
       "      <td>102.600000</td>\n",
       "      <td>102.650000</td>\n",
       "      <td>1.001800e+05</td>\n",
       "      <td>128.040000</td>\n",
       "    </tr>\n",
       "    <tr>\n",
       "      <th>25%</th>\n",
       "      <td>137.500000</td>\n",
       "      <td>138.925000</td>\n",
       "      <td>135.250000</td>\n",
       "      <td>137.175000</td>\n",
       "      <td>137.225000</td>\n",
       "      <td>1.284482e+06</td>\n",
       "      <td>1801.035000</td>\n",
       "    </tr>\n",
       "    <tr>\n",
       "      <th>50%</th>\n",
       "      <td>151.450000</td>\n",
       "      <td>153.250000</td>\n",
       "      <td>149.500000</td>\n",
       "      <td>151.200000</td>\n",
       "      <td>151.100000</td>\n",
       "      <td>1.964885e+06</td>\n",
       "      <td>3068.510000</td>\n",
       "    </tr>\n",
       "    <tr>\n",
       "      <th>75%</th>\n",
       "      <td>168.250000</td>\n",
       "      <td>172.325000</td>\n",
       "      <td>166.700000</td>\n",
       "      <td>169.100000</td>\n",
       "      <td>169.500000</td>\n",
       "      <td>3.095788e+06</td>\n",
       "      <td>5852.600000</td>\n",
       "    </tr>\n",
       "    <tr>\n",
       "      <th>max</th>\n",
       "      <td>327.700000</td>\n",
       "      <td>328.750000</td>\n",
       "      <td>321.650000</td>\n",
       "      <td>325.950000</td>\n",
       "      <td>325.750000</td>\n",
       "      <td>2.919102e+07</td>\n",
       "      <td>55755.080000</td>\n",
       "    </tr>\n",
       "  </tbody>\n",
       "</table>\n",
       "</div>"
      ],
      "text/plain": [
       "              Open         High          Low         Last        Close  \\\n",
       "count  1231.000000  1235.000000  1235.000000  1235.000000  1235.000000   \n",
       "mean    168.701665   171.429069   166.402308   168.736356   168.731053   \n",
       "std      51.375871    52.436761    50.542919    51.587384    51.544928   \n",
       "min     103.000000   104.600000   100.000000   102.600000   102.650000   \n",
       "25%     137.500000   138.925000   135.250000   137.175000   137.225000   \n",
       "50%     151.450000   153.250000   149.500000   151.200000   151.100000   \n",
       "75%     168.250000   172.325000   166.700000   169.100000   169.500000   \n",
       "max     327.700000   328.750000   321.650000   325.950000   325.750000   \n",
       "\n",
       "       Total Trade Quantity  Turnover (Lacs)  \n",
       "count          1.235000e+03      1235.000000  \n",
       "mean           2.604151e+06      4843.166502  \n",
       "std            2.277028e+06      5348.919832  \n",
       "min            1.001800e+05       128.040000  \n",
       "25%            1.284482e+06      1801.035000  \n",
       "50%            1.964885e+06      3068.510000  \n",
       "75%            3.095788e+06      5852.600000  \n",
       "max            2.919102e+07     55755.080000  "
      ]
     },
     "execution_count": 7,
     "metadata": {},
     "output_type": "execute_result"
    }
   ],
   "source": [
    "stocks.describe()"
   ]
  },
  {
   "cell_type": "code",
   "execution_count": 8,
   "id": "aa2a38df",
   "metadata": {},
   "outputs": [],
   "source": [
    "%matplotlib inline"
   ]
  },
  {
   "cell_type": "code",
   "execution_count": 9,
   "id": "f5ac970c",
   "metadata": {},
   "outputs": [],
   "source": [
    "import matplotlib.pyplot as plt"
   ]
  },
  {
   "cell_type": "code",
   "execution_count": 10,
   "id": "dcdcc240",
   "metadata": {},
   "outputs": [
    {
     "data": {
      "text/plain": [
       "array([[<AxesSubplot:title={'center':'Open'}>,\n",
       "        <AxesSubplot:title={'center':'High'}>,\n",
       "        <AxesSubplot:title={'center':'Low'}>],\n",
       "       [<AxesSubplot:title={'center':'Last'}>,\n",
       "        <AxesSubplot:title={'center':'Close'}>,\n",
       "        <AxesSubplot:title={'center':'Total Trade Quantity'}>],\n",
       "       [<AxesSubplot:title={'center':'Turnover (Lacs)'}>, <AxesSubplot:>,\n",
       "        <AxesSubplot:>]], dtype=object)"
      ]
     },
     "execution_count": 10,
     "metadata": {},
     "output_type": "execute_result"
    },
    {
     "data": {
      "image/png": "[encoded data removed]",
      "text/plain": [
       "<Figure size 1440x1080 with 9 Axes>"
      ]
     },
     "metadata": {
      "needs_background": "light"
     },
     "output_type": "display_data"
    }
   ],
   "source": [
    "stocks.hist(bins = 50, figsize=(20,15))"
   ]
  },
  {
   "cell_type": "markdown",
   "id": "8891baf4",
   "metadata": {},
   "source": [
    "# Train-Test Splitting"
   ]
  },
  {
   "cell_type": "code",
   "execution_count": 11,
   "id": "ea1e8aa1",
   "metadata": {},
   "outputs": [],
   "source": [
    "import numpy as np\n",
    "def split_train_test(data,test_ratio):\n",
    "    np.random.seed(42)\n",
    "    shuffled = np.random.permutation(len(data))\n",
    "#     print(shuffled)\n",
    "    test_set_size = int(len(data)*test_ratio)\n",
    "    test_indices = shuffled[:test_set_size]\n",
    "    train_indices = shuffled[test_set_size:]\n",
    "    return data.iloc[train_indices],  data.iloc[test_indices]"
   ]
  },
  {
   "cell_type": "code",
   "execution_count": 12,
   "id": "c6b2522e",
   "metadata": {},
   "outputs": [],
   "source": [
    "train_set, test_set = split_train_test(stocks, 0.2)"
   ]
  },
  {
   "cell_type": "code",
   "execution_count": 13,
   "id": "b720c017",
   "metadata": {},
   "outputs": [
    {
     "name": "stdout",
     "output_type": "stream",
     "text": [
      "Rows in train set: 988\n",
      "Rows in test set: 247\n"
     ]
    }
   ],
   "source": [
    "print(f\"Rows in train set: {len(train_set)}\\nRows in test set: {len(test_set)}\")"
   ]
  },
  {
   "cell_type": "markdown",
   "id": "68cf0e7c",
   "metadata": {},
   "source": [
    "# This splitting can also be done through sklearn"
   ]
  },
  {
   "cell_type": "code",
   "execution_count": 14,
   "id": "20f2d68e",
   "metadata": {},
   "outputs": [
    {
     "name": "stdout",
     "output_type": "stream",
     "text": [
      "Rows in train set: 988\n",
      "Rows in test set: 247\n"
     ]
    }
   ],
   "source": [
    "from sklearn.model_selection import train_test_split\n",
    "train_set, test_set = train_test_split(stocks, test_size = 0.2, random_state=42)\n",
    "print(f\"Rows in train set: {len(train_set)}\\nRows in test set: {len(test_set)}\")"
   ]
  },
  {
   "cell_type": "markdown",
   "id": "0fe5224b",
   "metadata": {},
   "source": [
    "This below is done for even distibution of a particular feature"
   ]
  },
  {
   "cell_type": "code",
   "execution_count": 15,
   "id": "f8274e81",
   "metadata": {},
   "outputs": [],
   "source": [
    "# from sklearn.model_selection import StratifiedShuffleSplit\n",
    "# split = StratifiedShuffleSplit(n_splits=1, test_size=0.2, random_state =42)\n",
    "# for train_index, test_index in split.split(stocks,stocks['Open']):\n",
    "#     strat_train_set = stocks.loc[train_index]\n",
    "#     strat_test_set = stocks.loc[test_index]\n",
    "# Not needed in this case"
   ]
  },
  {
   "cell_type": "code",
   "execution_count": 16,
   "id": "007b51f1",
   "metadata": {},
   "outputs": [],
   "source": [
    "stocks = train_set.copy()"
   ]
  },
  {
   "cell_type": "markdown",
   "id": "f5affb4f",
   "metadata": {},
   "source": [
    "# Looking for Correlations"
   ]
  },
  {
   "cell_type": "code",
   "execution_count": 17,
   "id": "4c3503ec",
   "metadata": {},
   "outputs": [],
   "source": [
    "corr_matrix = stocks.corr()"
   ]
  },
  {
   "cell_type": "code",
   "execution_count": 18,
   "id": "0a284384",
   "metadata": {},
   "outputs": [
    {
     "data": {
      "text/plain": [
       "High                    1.000000\n",
       "Close                   0.999151\n",
       "Last                    0.999108\n",
       "Open                    0.998996\n",
       "Low                     0.998720\n",
       "Turnover (Lacs)         0.605766\n",
       "Total Trade Quantity    0.381838\n",
       "Name: High, dtype: float64"
      ]
     },
     "execution_count": 18,
     "metadata": {},
     "output_type": "execute_result"
    }
   ],
   "source": [
    "\n"
   ]
  },
  {
   "cell_type": "code",
   "execution_count": 19,
   "id": "44ab87fc",
   "metadata": {},
   "outputs": [
    {
     "data": {
      "text/plain": [
       "array([[<AxesSubplot:xlabel='High', ylabel='High'>,\n",
       "        <AxesSubplot:xlabel='Total Trade Quantity', ylabel='High'>],\n",
       "       [<AxesSubplot:xlabel='High', ylabel='Total Trade Quantity'>,\n",
       "        <AxesSubplot:xlabel='Total Trade Quantity', ylabel='Total Trade Quantity'>]],\n",
       "      dtype=object)"
      ]
     },
     "execution_count": 19,
     "metadata": {},
     "output_type": "execute_result"
    },
    {
     "data": {
      "image/png": "[encoded data removed]",
      "text/plain": [
       "<Figure size 1080x1080 with 4 Axes>"
      ]
     },
     "metadata": {
      "needs_background": "light"
     },
     "output_type": "display_data"
    }
   ],
   "source": [
    "from pandas.plotting import scatter_matrix\n",
    "attributres = [\"High\", \"Total Trade Quantity\"]\n",
    "scatter_matrix(stocks[attributres],figsize=(15,15))"
   ]
  },
  {
   "cell_type": "code",
   "execution_count": 20,
   "id": "57d88eb5",
   "metadata": {},
   "outputs": [
    {
     "data": {
      "text/plain": [
       "<AxesSubplot:xlabel='High', ylabel='Total Trade Quantity'>"
      ]
     },
     "execution_count": 20,
     "metadata": {},
     "output_type": "execute_result"
    },
    {
     "data": {
      "image/png": "[encoded data removed]",
      "text/plain": [
       "<Figure size 432x288 with 1 Axes>"
      ]
     },
     "metadata": {
      "needs_background": "light"
     },
     "output_type": "display_data"
    }
   ],
   "source": [
    "stocks.plot(kind=\"scatter\", x=\"High\", y=\"Total Trade Quantity\", alpha = 0.7)"
   ]
  },
  {
   "cell_type": "code",
   "execution_count": 21,
   "id": "1980d5ef",
   "metadata": {},
   "outputs": [],
   "source": [
    "stocks = train_set.drop(\"Turnover (Lacs)\",axis =1)\n",
    "stocks_labels = train_set[\"Turnover (Lacs)\"].copy()"
   ]
  },
  {
   "cell_type": "code",
   "execution_count": 22,
   "id": "a230b4b5",
   "metadata": {},
   "outputs": [
    {
     "data": {
      "text/plain": [
       "(988, 7)"
      ]
     },
     "execution_count": 22,
     "metadata": {},
     "output_type": "execute_result"
    }
   ],
   "source": [
    " stocks.shape"
   ]
  },
  {
   "cell_type": "code",
   "execution_count": 23,
   "id": "f378f865",
   "metadata": {},
   "outputs": [
    {
     "data": {
      "text/plain": [
       "(988, 6)"
      ]
     },
     "execution_count": 23,
     "metadata": {},
     "output_type": "execute_result"
    }
   ],
   "source": [
    "a =stocks.drop(\"Date\", axis = 1)\n",
    "a.shape"
   ]
  },
  {
   "cell_type": "code",
   "execution_count": 24,
   "id": "37e4bbdf",
   "metadata": {},
   "outputs": [
    {
     "data": {
      "text/plain": [
       "SimpleImputer(strategy='median')"
      ]
     },
     "execution_count": 24,
     "metadata": {},
     "output_type": "execute_result"
    }
   ],
   "source": [
    "from sklearn.impute import SimpleImputer\n",
    "imputer = SimpleImputer(strategy = \"median\")\n",
    "imputer.fit(a)"
   ]
  },
  {
   "cell_type": "code",
   "execution_count": 25,
   "id": "f3ee6018",
   "metadata": {},
   "outputs": [
    {
     "data": {
      "text/plain": [
       "array([1.5130000e+02, 1.5337500e+02, 1.4945000e+02, 1.5097500e+02,\n",
       "       1.5080000e+02, 1.9490685e+06])"
      ]
     },
     "execution_count": 25,
     "metadata": {},
     "output_type": "execute_result"
    }
   ],
   "source": [
    "imputer.statistics_"
   ]
  },
  {
   "cell_type": "code",
   "execution_count": 26,
   "id": "7c44d7a8",
   "metadata": {},
   "outputs": [],
   "source": [
    "X = imputer.transform(a)"
   ]
  },
  {
   "cell_type": "code",
   "execution_count": 27,
   "id": "a0e1c85d",
   "metadata": {},
   "outputs": [],
   "source": [
    "a_tr = pd.DataFrame(X, columns= a.columns)"
   ]
  },
  {
   "cell_type": "code",
   "execution_count": 28,
   "id": "ba6dd9b1",
   "metadata": {},
   "outputs": [
    {
     "data": {
      "text/html": [
       "<div>\n",
       "<style scoped>\n",
       "    .dataframe tbody tr th:only-of-type {\n",
       "        vertical-align: middle;\n",
       "    }\n",
       "\n",
       "    .dataframe tbody tr th {\n",
       "        vertical-align: top;\n",
       "    }\n",
       "\n",
       "    .dataframe thead th {\n",
       "        text-align: right;\n",
       "    }\n",
       "</style>\n",
       "<table border=\"1\" class=\"dataframe\">\n",
       "  <thead>\n",
       "    <tr style=\"text-align: right;\">\n",
       "      <th></th>\n",
       "      <th>Open</th>\n",
       "      <th>High</th>\n",
       "      <th>Low</th>\n",
       "      <th>Last</th>\n",
       "      <th>Close</th>\n",
       "      <th>Total Trade Quantity</th>\n",
       "    </tr>\n",
       "  </thead>\n",
       "  <tbody>\n",
       "    <tr>\n",
       "      <th>count</th>\n",
       "      <td>988.000000</td>\n",
       "      <td>988.000000</td>\n",
       "      <td>988.000000</td>\n",
       "      <td>988.000000</td>\n",
       "      <td>988.000000</td>\n",
       "      <td>9.880000e+02</td>\n",
       "    </tr>\n",
       "    <tr>\n",
       "      <th>mean</th>\n",
       "      <td>168.160526</td>\n",
       "      <td>170.990182</td>\n",
       "      <td>165.979504</td>\n",
       "      <td>168.302379</td>\n",
       "      <td>168.305516</td>\n",
       "      <td>2.577208e+06</td>\n",
       "    </tr>\n",
       "    <tr>\n",
       "      <th>std</th>\n",
       "      <td>50.797941</td>\n",
       "      <td>52.006149</td>\n",
       "      <td>50.134236</td>\n",
       "      <td>51.191077</td>\n",
       "      <td>51.166123</td>\n",
       "      <td>2.248380e+06</td>\n",
       "    </tr>\n",
       "    <tr>\n",
       "      <th>min</th>\n",
       "      <td>103.000000</td>\n",
       "      <td>104.600000</td>\n",
       "      <td>100.000000</td>\n",
       "      <td>102.600000</td>\n",
       "      <td>102.650000</td>\n",
       "      <td>1.001800e+05</td>\n",
       "    </tr>\n",
       "    <tr>\n",
       "      <th>25%</th>\n",
       "      <td>137.775000</td>\n",
       "      <td>139.212500</td>\n",
       "      <td>135.575000</td>\n",
       "      <td>137.250000</td>\n",
       "      <td>137.450000</td>\n",
       "      <td>1.284603e+06</td>\n",
       "    </tr>\n",
       "    <tr>\n",
       "      <th>50%</th>\n",
       "      <td>151.300000</td>\n",
       "      <td>153.375000</td>\n",
       "      <td>149.450000</td>\n",
       "      <td>150.975000</td>\n",
       "      <td>150.800000</td>\n",
       "      <td>1.949068e+06</td>\n",
       "    </tr>\n",
       "    <tr>\n",
       "      <th>75%</th>\n",
       "      <td>168.000000</td>\n",
       "      <td>171.562500</td>\n",
       "      <td>165.925000</td>\n",
       "      <td>168.150000</td>\n",
       "      <td>168.125000</td>\n",
       "      <td>3.048694e+06</td>\n",
       "    </tr>\n",
       "    <tr>\n",
       "      <th>max</th>\n",
       "      <td>327.700000</td>\n",
       "      <td>328.750000</td>\n",
       "      <td>321.650000</td>\n",
       "      <td>325.950000</td>\n",
       "      <td>325.750000</td>\n",
       "      <td>2.919102e+07</td>\n",
       "    </tr>\n",
       "  </tbody>\n",
       "</table>\n",
       "</div>"
      ],
      "text/plain": [
       "             Open        High         Low        Last       Close  \\\n",
       "count  988.000000  988.000000  988.000000  988.000000  988.000000   \n",
       "mean   168.160526  170.990182  165.979504  168.302379  168.305516   \n",
       "std     50.797941   52.006149   50.134236   51.191077   51.166123   \n",
       "min    103.000000  104.600000  100.000000  102.600000  102.650000   \n",
       "25%    137.775000  139.212500  135.575000  137.250000  137.450000   \n",
       "50%    151.300000  153.375000  149.450000  150.975000  150.800000   \n",
       "75%    168.000000  171.562500  165.925000  168.150000  168.125000   \n",
       "max    327.700000  328.750000  321.650000  325.950000  325.750000   \n",
       "\n",
       "       Total Trade Quantity  \n",
       "count          9.880000e+02  \n",
       "mean           2.577208e+06  \n",
       "std            2.248380e+06  \n",
       "min            1.001800e+05  \n",
       "25%            1.284603e+06  \n",
       "50%            1.949068e+06  \n",
       "75%            3.048694e+06  \n",
       "max            2.919102e+07  "
      ]
     },
     "execution_count": 28,
     "metadata": {},
     "output_type": "execute_result"
    }
   ],
   "source": [
    "a_tr.describe()"
   ]
  },
  {
   "cell_type": "code",
   "execution_count": 29,
   "id": "2616864d",
   "metadata": {},
   "outputs": [
    {
     "data": {
      "text/plain": [
       "(988, 6)"
      ]
     },
     "execution_count": 29,
     "metadata": {},
     "output_type": "execute_result"
    }
   ],
   "source": [
    "a.shape"
   ]
  },
  {
   "cell_type": "code",
   "execution_count": 30,
   "id": "9dc70295",
   "metadata": {},
   "outputs": [
    {
     "data": {
      "text/plain": [
       "(988, 7)"
      ]
     },
     "execution_count": 30,
     "metadata": {},
     "output_type": "execute_result"
    }
   ],
   "source": [
    "stocks.shape"
   ]
  },
  {
   "cell_type": "markdown",
   "id": "68ed4dc3",
   "metadata": {},
   "source": [
    "# Creating a Pipeline\n"
   ]
  },
  {
   "cell_type": "code",
   "execution_count": 31,
   "id": "24851906",
   "metadata": {},
   "outputs": [],
   "source": [
    "from sklearn.pipeline import Pipeline\n",
    "# from sklearn.impute import SimpleImputer\n",
    "from sklearn.preprocessing import StandardScaler\n",
    "my_pipeline= Pipeline([\n",
    "    ('imputer', SimpleImputer(strategy=\"median\")),\n",
    "    ('std_scalar', StandardScaler()),\n",
    "])"
   ]
  },
  {
   "cell_type": "code",
   "execution_count": 32,
   "id": "7b4565ce",
   "metadata": {},
   "outputs": [],
   "source": [
    "a_num_tr = my_pipeline.fit_transform(a_tr)"
   ]
  },
  {
   "cell_type": "code",
   "execution_count": 33,
   "id": "6710cf68",
   "metadata": {},
   "outputs": [
    {
     "data": {
      "text/plain": [
       "array([[-0.31927941, -0.36341374, -0.3228871 , -0.31666817, -0.32959411,\n",
       "        -0.77149562],\n",
       "       [-0.6373667 , -0.65487298, -0.61824407, -0.63622153, -0.63952628,\n",
       "        -0.88274399],\n",
       "       [-0.65509292, -0.67892078, -0.65416586, -0.66162944, -0.67179051,\n",
       "        -0.68000658],\n",
       "       ...,\n",
       "       [-0.48570898, -0.51251005, -0.49251779, -0.49452355, -0.48895987,\n",
       "         0.14820065],\n",
       "       [-0.21390684, -0.25471772, -0.29494793, -0.30103253, -0.29439677,\n",
       "        -0.36668873],\n",
       "       [-0.43646946, -0.46345256, -0.48054386, -0.50527306, -0.50362543,\n",
       "        -0.59465084]])"
      ]
     },
     "execution_count": 33,
     "metadata": {},
     "output_type": "execute_result"
    }
   ],
   "source": [
    "a_num_tr"
   ]
  },
  {
   "cell_type": "markdown",
   "id": "65ea2f83",
   "metadata": {},
   "source": [
    "# Selecting a desired model\n"
   ]
  },
  {
   "cell_type": "code",
   "execution_count": 34,
   "id": "e27f6dc7",
   "metadata": {},
   "outputs": [
    {
     "data": {
      "text/plain": [
       "RandomForestRegressor()"
      ]
     },
     "execution_count": 34,
     "metadata": {},
     "output_type": "execute_result"
    }
   ],
   "source": [
    "from sklearn import linear_model\n",
    "# from sklearn.linear_model import LinearRegression\n",
    "# from sklearn.tree import DecisionTreeRegressor\n",
    "from sklearn.ensemble import RandomForestRegressor\n",
    "# from sklearn.preprocessing import StandardScaler\n",
    "# from sklearn.svm import SVR\n",
    "reg = RandomForestRegressor()\n",
    "reg.fit(a_num_tr,stocks_labels)"
   ]
  },
  {
   "cell_type": "code",
   "execution_count": 35,
   "id": "4e92378a",
   "metadata": {},
   "outputs": [],
   "source": [
    "#  inplace= True"
   ]
  },
  {
   "cell_type": "code",
   "execution_count": 36,
   "id": "dc4c94e4",
   "metadata": {},
   "outputs": [],
   "source": [
    "some_data = a.iloc[:5]"
   ]
  },
  {
   "cell_type": "code",
   "execution_count": 37,
   "id": "0bb828c1",
   "metadata": {},
   "outputs": [],
   "source": [
    "some_labels= stocks_labels.iloc[:5]"
   ]
  },
  {
   "cell_type": "code",
   "execution_count": 38,
   "id": "842849c2",
   "metadata": {},
   "outputs": [],
   "source": [
    "prepared_data = my_pipeline.transform(some_data)"
   ]
  },
  {
   "cell_type": "code",
   "execution_count": 39,
   "id": "444c51b3",
   "metadata": {},
   "outputs": [
    {
     "data": {
      "text/plain": [
       "array([1267.5412,  805.0086, 1398.1238, 1785.4601, 3666.3266])"
      ]
     },
     "execution_count": 39,
     "metadata": {},
     "output_type": "execute_result"
    }
   ],
   "source": [
    "reg.predict(prepared_data)"
   ]
  },
  {
   "cell_type": "code",
   "execution_count": 40,
   "id": "e419a306",
   "metadata": {},
   "outputs": [
    {
     "data": {
      "text/plain": [
       "[1273.34, 807.08, 1413.1, 1719.38, 3687.65]"
      ]
     },
     "execution_count": 40,
     "metadata": {},
     "output_type": "execute_result"
    }
   ],
   "source": [
    "list(some_labels)"
   ]
  },
  {
   "cell_type": "markdown",
   "id": "6a6491c5",
   "metadata": {},
   "source": [
    "# Evaluating the model\n"
   ]
  },
  {
   "cell_type": "code",
   "execution_count": 41,
   "id": "34309e74",
   "metadata": {},
   "outputs": [],
   "source": [
    "from sklearn.metrics import mean_squared_error\n",
    "stocks_predictions = reg.predict(a_num_tr)\n",
    "mse = mean_squared_error(stocks_labels,stocks_predictions)\n",
    "rmse = np.sqrt(mse)"
   ]
  },
  {
   "cell_type": "code",
   "execution_count": 42,
   "id": "7f8deceb",
   "metadata": {},
   "outputs": [
    {
     "data": {
      "text/plain": [
       "426.96375065534306"
      ]
     },
     "execution_count": 42,
     "metadata": {},
     "output_type": "execute_result"
    }
   ],
   "source": [
    "rmse"
   ]
  },
  {
   "cell_type": "markdown",
   "id": "22035626",
   "metadata": {},
   "source": [
    "# Using better evaluation technique - Cross Validation\n"
   ]
  },
  {
   "cell_type": "code",
   "execution_count": 43,
   "id": "3c56e8d9",
   "metadata": {},
   "outputs": [],
   "source": [
    "#1 2 3 4 5 6 7 8 9 10\n",
    "from sklearn.model_selection import cross_val_score\n",
    "scores = cross_val_score(reg, a_num_tr, stocks_labels, scoring = \"neg_mean_squared_error\", cv = 10)\n",
    "rmse_scores = np.sqrt(-scores)"
   ]
  },
  {
   "cell_type": "code",
   "execution_count": 44,
   "id": "c0019a5c",
   "metadata": {},
   "outputs": [
    {
     "data": {
      "text/plain": [
       "array([ 866.27147037,  376.25754214,  404.09892619,  702.67843167,\n",
       "        185.64950993,  988.30322834,  185.42593976, 2448.49740615,\n",
       "        342.21890144,  656.8763745 ])"
      ]
     },
     "execution_count": 44,
     "metadata": {},
     "output_type": "execute_result"
    }
   ],
   "source": [
    "rmse_scores"
   ]
  },
  {
   "cell_type": "code",
   "execution_count": 45,
   "id": "9508abef",
   "metadata": {},
   "outputs": [],
   "source": [
    "def print_scores(scores):\n",
    "    print(\"Scores: \", scores)\n",
    "    print(\"Mean: \", scores.mean())\n",
    "    print(\"Standard deviation: \", scores.std())"
   ]
  },
  {
   "cell_type": "code",
   "execution_count": 46,
   "id": "980cbc37",
   "metadata": {},
   "outputs": [
    {
     "name": "stdout",
     "output_type": "stream",
     "text": [
      "Scores:  [ 866.27147037  376.25754214  404.09892619  702.67843167  185.64950993\n",
      "  988.30322834  185.42593976 2448.49740615  342.21890144  656.8763745 ]\n",
      "Mean:  715.6277730495879\n",
      "Standard deviation:  633.8098697494258\n"
     ]
    }
   ],
   "source": [
    "print_scores(rmse_scores)"
   ]
  },
  {
   "cell_type": "markdown",
   "id": "3c3d4354",
   "metadata": {},
   "source": [
    "\n",
    "# Saving the model "
   ]
  },
  {
   "cell_type": "code",
   "execution_count": 47,
   "id": "cfb30abc",
   "metadata": {},
   "outputs": [
    {
     "data": {
      "text/plain": [
       "['Stocks_Price_Predictor']"
      ]
     },
     "execution_count": 47,
     "metadata": {},
     "output_type": "execute_result"
    }
   ],
   "source": [
    "from joblib import dump, load\n",
    "dump(reg, 'Stocks_Price_Predictor')"
   ]
  },
  {
   "cell_type": "markdown",
   "id": "ccefde53",
   "metadata": {},
   "source": [
    "# Testing the model on test data"
   ]
  },
  {
   "cell_type": "code",
   "execution_count": 48,
   "id": "9072dbc6",
   "metadata": {},
   "outputs": [
    {
     "name": "stdout",
     "output_type": "stream",
     "text": [
      "[ 1606.0519   707.4311  2561.8198  6054.1689  9348.1819  1184.7376\n",
      "  7810.4448 11339.6706  3017.153  11265.0423  3321.8927 10888.996\n",
      "  5107.2724  2601.0616 10041.0271  2763.271   1258.9011 14458.4139\n",
      "  1982.421   2036.6109  4107.7415  2214.3975  4456.9081  7070.0165\n",
      "  7303.8417  2621.3302 34504.4324  3579.6331  5300.7205   960.4751\n",
      "  1354.6925  2468.0043  4015.8491  4696.5597   744.1053 15767.6238\n",
      "  8580.3263 17417.7539  1313.6316  3181.6075  8341.8018 10106.6934\n",
      "  3435.6874  1545.3529  9031.6039  5442.2898  1268.1443  3344.9792\n",
      "  7937.2934  5678.2178  1477.5661   795.5808  6851.1664  2753.4912\n",
      "  3717.622  10400.6455  5180.792   4192.0354 10011.651   2142.615\n",
      " 11520.4458  4238.9682  2226.0803  3206.7443  5791.5883  6954.5277\n",
      "  1220.065   3908.9684  3320.4154  6189.9558  8568.2034 35923.9329\n",
      "  3023.0409  1677.9845  3287.0194  1723.4913  5218.1364  3210.5024\n",
      "  1955.6887  1767.8486   893.2879  7220.4339  1736.679   2666.1083\n",
      "  1666.2578  7421.8072 33380.2538  5500.9803  4350.6587  7890.9612\n",
      " 13398.1528  1150.2512  3785.0101  4850.5092  7394.7645  7868.1468\n",
      "  1986.3527  1768.0054  2890.057   3059.2478  5680.7296   799.5994\n",
      "  6850.7126  3003.3238  1325.2887 14137.319   8164.1363 24696.4362\n",
      "  5412.1774  9779.3295  7076.0579  2495.6661   650.5876  2271.517\n",
      "  1353.8154  4147.2329  3308.7234  1766.8032  1500.452   2433.9998\n",
      "  7821.4135  1906.8322  1025.8552  1022.5697  8634.063   6809.7974\n",
      "  1345.878   9031.7384  8565.4275  1928.1458  4343.7102  5577.833\n",
      "  2008.3139  3657.2016  1899.3042  3685.235   1777.8731  2110.4652\n",
      " 10439.4069   991.5284  4131.1036  1752.0913  4896.9923  1692.1223\n",
      "   705.5073  1118.1175  1046.4415  6835.091   3498.3097  2248.9532\n",
      "  4357.2274  1939.5165  1280.1918  2537.5719  9572.3325  3779.0085\n",
      "  2578.5435  1993.3169  4265.323   2166.9637  2536.0842 36839.987\n",
      "  9388.4314  1258.4089  2800.9631 12379.9026 12921.5587  2842.1149\n",
      "  7365.7835   736.8966  2163.6588  4536.2773 19753.9669  5535.5871\n",
      "  4333.9056  5771.2133  2793.5395  3643.2067  1224.9148   857.3412\n",
      "  1117.982   2321.1131   534.665   3893.6126 16132.0729  1926.4851\n",
      "  1562.2291  5525.5396  2128.4764  4367.201   4978.0139  5748.1258\n",
      "  3631.2345  4121.6659  1593.9648  1417.4758  4203.1424  2351.1157\n",
      "  1216.8763  1664.96    1738.4298   535.5882  3315.3814  1136.688\n",
      " 24022.629   1782.1819  6563.9311  7082.3447  6379.3342 20396.4172\n",
      "  1274.7455  3065.533   6985.765   1312.328   1869.8242  1620.5551\n",
      "  1383.5036  8405.508   1407.3947  3348.0766  1325.6457 13268.4059\n",
      "  1692.995   3028.1833  2098.8695  1560.3248  4099.8615  8232.2677\n",
      "  2582.0109 13855.8837  4046.2099  2426.5168  1087.3727  2844.5376\n",
      "  2993.0285   613.381   2569.5134  2081.3327  7949.4564  4158.0413\n",
      "  1832.2755 14269.9167  4131.3616  1366.187   3143.0028  1424.1562\n",
      "  2070.3629] [1602.92, 651.64, 2501.25, 6075.2, 10171.94, 1166.6, 7866.08, 10619.19, 3039.13, 10218.17, 3343.22, 10969.25, 4533.74, 2600.32, 9084.0, 2736.84, 1199.34, 15929.24, 1983.0, 2033.66, 4153.1, 2209.3, 4531.68, 7162.95, 7355.63, 2619.52, 32325.56, 3600.63, 5359.78, 943.57, 1319.18, 2442.85, 4034.8, 4614.1, 704.54, 15781.35, 8901.67, 17013.97, 1321.99, 3195.34, 8238.83, 10128.78, 3463.9, 1523.05, 9084.43, 5685.22, 1244.54, 3311.87, 8096.77, 5607.3, 1464.89, 794.31, 6713.26, 2737.89, 3708.75, 10234.09, 5286.28, 4145.58, 9999.82, 2137.51, 10917.34, 4237.13, 2217.95, 3195.54, 5461.09, 6727.73, 1250.08, 3921.42, 3353.22, 6065.36, 8614.03, 36047.39, 2998.0, 1687.67, 3334.75, 1729.0, 5252.89, 3217.77, 1966.07, 1809.6, 859.2, 7098.12, 1735.14, 2627.56, 1705.09, 7337.93, 31569.51, 5563.82, 4327.25, 7913.21, 13695.83, 1165.48, 3811.57, 4668.88, 7205.7, 7627.68, 1972.13, 1792.49, 2945.64, 3090.43, 5700.15, 815.65, 6649.77, 3004.79, 1359.79, 14149.92, 8298.94, 21392.59, 5489.77, 9730.6, 7143.47, 2497.12, 637.58, 2301.64, 1368.62, 4119.2, 3286.14, 1766.28, 1500.0, 2418.83, 7794.77, 1896.92, 1020.96, 1006.63, 8804.57, 6920.49, 1253.34, 8960.23, 9025.87, 1904.59, 4300.52, 5601.51, 2039.09, 3656.4, 1881.45, 3454.22, 1762.88, 2116.66, 10349.32, 976.55, 4163.49, 1764.05, 4848.43, 1687.44, 688.06, 1119.09, 1028.35, 6583.98, 3477.95, 2261.48, 4381.6, 1940.34, 1254.56, 2549.95, 9552.1, 3815.79, 2598.58, 1979.3, 4264.27, 2155.17, 2501.0, 44321.86, 10164.51, 1242.12, 2800.01, 12589.59, 12811.25, 2823.73, 7236.35, 744.3, 2177.09, 4557.84, 20637.33, 5520.4, 4303.91, 5797.01, 2784.42, 3600.42, 1240.8, 910.88, 1116.52, 2322.75, 517.65, 3901.51, 16212.97, 1901.94, 1560.97, 5606.74, 2119.11, 4339.35, 5082.79, 5729.14, 3662.11, 4031.92, 1584.73, 1366.68, 4182.18, 2277.36, 1241.11, 1671.52, 1736.48, 572.15, 3230.5, 1141.18, 28436.36, 1803.31, 6855.32, 6738.89, 6234.53, 22500.69, 1241.44, 3068.51, 7022.82, 1329.52, 1915.37, 1632.17, 1377.75, 8735.39, 1448.93, 3317.68, 1367.68, 14554.9, 1708.02, 3006.86, 2126.97, 1539.68, 4157.98, 8224.13, 2551.58, 16618.38, 3983.2, 2444.39, 1083.85, 2856.86, 3012.11, 561.05, 2518.99, 2088.78, 8103.65, 4200.26, 1848.1, 14922.72, 4141.83, 1418.21, 3110.99, 1437.23, 2058.33]\n"
     ]
    }
   ],
   "source": [
    "X_test = test_set.drop([\"Turnover (Lacs)\",\"Date\"], axis =1)\n",
    "Y_test = test_set[\"Turnover (Lacs)\"].copy()\n",
    "X_test_prepared = my_pipeline.transform(X_test)\n",
    "final_predictions = reg.predict(X_test_prepared)\n",
    "final_mse = mean_squared_error(Y_test, final_predictions)\n",
    "final_rmse = np.sqrt(final_mse)\n",
    "print(final_predictions,list(Y_test))"
   ]
  },
  {
   "cell_type": "code",
   "execution_count": 49,
   "id": "a38223b7",
   "metadata": {},
   "outputs": [
    {
     "data": {
      "text/plain": [
       "691.0076800429753"
      ]
     },
     "execution_count": 49,
     "metadata": {},
     "output_type": "execute_result"
    }
   ],
   "source": [
    "final_rmse"
   ]
  },
  {
   "cell_type": "code",
   "execution_count": 50,
   "id": "8b7816e4",
   "metadata": {},
   "outputs": [
    {
     "data": {
      "text/plain": [
       "array([-0.31927941, -0.36341374, -0.3228871 , -0.31666817, -0.32959411,\n",
       "       -0.77149562])"
      ]
     },
     "execution_count": 50,
     "metadata": {},
     "output_type": "execute_result"
    }
   ],
   "source": [
    "prepared_data[0]"
   ]
  },
  {
   "cell_type": "markdown",
   "id": "6371cc7d",
   "metadata": {},
   "source": [
    "# Model Usage"
   ]
  },
  {
   "cell_type": "code",
   "execution_count": 51,
   "id": "28424a06",
   "metadata": {},
   "outputs": [
    {
     "data": {
      "text/plain": [
       "array([49601.281])"
      ]
     },
     "execution_count": 51,
     "metadata": {},
     "output_type": "execute_result"
    }
   ],
   "source": [
    "from joblib import dump, load\n",
    "import numpy as np\n",
    "reg = load('Stocks_Price_Predictor')\n",
    "features = np.array([[1447, 1455, 1436.2 ,1448.15, 1448.15,\n",
    "       6.68e4]])\n",
    "reg.predict(features)"
   ]
  }
 ],
 "metadata": {
  "kernelspec": {
   "display_name": "Python 3",
   "language": "python",
   "name": "python3"
  },
  "language_info": {
   "codemirror_mode": {
    "name": "ipython",
    "version": 3
   },
   "file_extension": ".py",
   "mimetype": "text/x-python",
   "name": "python",
   "nbconvert_exporter": "python",
   "pygments_lexer": "ipython3",
   "version": "3.8.8"
  }
 },
 "nbformat": 4,
 "nbformat_minor": 5
}
